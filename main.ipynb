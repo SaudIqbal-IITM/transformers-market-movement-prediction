{
 "cells": [
  {
   "cell_type": "markdown",
   "metadata": {
    "id": "IL1n2V89qgUk"
   },
   "source": [
    "# Transformers for Market Movement Prediction"
   ]
  },
  {
   "cell_type": "markdown",
   "metadata": {
    "id": "x4ChYgvNLQH8"
   },
   "source": [
    "# Setup"
   ]
  },
  {
   "cell_type": "code",
   "execution_count": 1,
   "metadata": {
    "colab": {
     "base_uri": "https://localhost:8080/"
    },
    "id": "I3peWx_8K-Ov",
    "outputId": "5153adbd-cb6c-4058-d8a8-e743b0e51888"
   },
   "outputs": [
    {
     "name": "stdout",
     "output_type": "stream",
     "text": [
      "Requirement already satisfied: quandl in /usr/local/lib/python3.7/dist-packages (3.6.1)\n",
      "Requirement already satisfied: python-dateutil in /usr/local/lib/python3.7/dist-packages (from quandl) (2.8.1)\n",
      "Requirement already satisfied: numpy>=1.8 in /usr/local/lib/python3.7/dist-packages (from quandl) (1.19.5)\n",
      "Requirement already satisfied: requests>=2.7.0 in /usr/local/lib/python3.7/dist-packages (from quandl) (2.23.0)\n",
      "Requirement already satisfied: six in /usr/local/lib/python3.7/dist-packages (from quandl) (1.15.0)\n",
      "Requirement already satisfied: more-itertools in /usr/local/lib/python3.7/dist-packages (from quandl) (8.8.0)\n",
      "Requirement already satisfied: inflection>=0.3.1 in /usr/local/lib/python3.7/dist-packages (from quandl) (0.5.1)\n",
      "Requirement already satisfied: pandas>=0.14 in /usr/local/lib/python3.7/dist-packages (from quandl) (1.1.5)\n",
      "Requirement already satisfied: idna<3,>=2.5 in /usr/local/lib/python3.7/dist-packages (from requests>=2.7.0->quandl) (2.10)\n",
      "Requirement already satisfied: chardet<4,>=3.0.2 in /usr/local/lib/python3.7/dist-packages (from requests>=2.7.0->quandl) (3.0.4)\n",
      "Requirement already satisfied: certifi>=2017.4.17 in /usr/local/lib/python3.7/dist-packages (from requests>=2.7.0->quandl) (2021.5.30)\n",
      "Requirement already satisfied: urllib3!=1.25.0,!=1.25.1,<1.26,>=1.21.1 in /usr/local/lib/python3.7/dist-packages (from requests>=2.7.0->quandl) (1.24.3)\n",
      "Requirement already satisfied: pytz>=2017.2 in /usr/local/lib/python3.7/dist-packages (from pandas>=0.14->quandl) (2018.9)\n"
     ]
    }
   ],
   "source": [
    "!pip install quandl"
   ]
  },
  {
   "cell_type": "code",
   "execution_count": 2,
   "metadata": {
    "id": "trHienm0LFMO"
   },
   "outputs": [],
   "source": [
    "# Import the quandl python package.\n",
    "import quandl\n",
    "\n",
    "# Package for scientific computing.\n",
    "import numpy as np \n",
    "\n",
    "# Package for tabular data manipulation and analysis.\n",
    "import pandas as pd\n",
    "\n",
    "# Package for machine learning.\n",
    "import tensorflow as tf\n",
    "from tensorflow import keras\n",
    "\n",
    "# Package for manipulating dates and times.\n",
    "from datetime import datetime\n",
    "\n",
    "# Plotting libraries.\n",
    "import matplotlib.pyplot as plt\n",
    "import seaborn as sns\n",
    "sns.set_theme(style=\"darkgrid\")\n",
    "%matplotlib inline"
   ]
  },
  {
   "cell_type": "code",
   "execution_count": 3,
   "metadata": {
    "id": "xAUlLwhTLcWk"
   },
   "outputs": [],
   "source": [
    "# Setting the API key for authentication.\n",
    "quandl.ApiConfig.api_key = pass # Enter your API key as a string"
   ]
  },
  {
   "cell_type": "markdown",
   "metadata": {
    "id": "tzhX6aPGLT2W"
   },
   "source": [
    "# Data"
   ]
  },
  {
   "cell_type": "markdown",
   "metadata": {},
   "source": [
    "For this project, we will use one of the most volatile assets in the digital assets market -- Bitcoin.\r\n",
    "\r\n",
    "<img src=\"images/bitcoin.jpeg\" alt=\"Bitcoin\">"
   ]
  },
  {
   "cell_type": "markdown",
   "metadata": {
    "id": "r_3AoneUyxRJ"
   },
   "source": [
    "## Get the Data"
   ]
  },
  {
   "cell_type": "code",
   "execution_count": 4,
   "metadata": {
    "colab": {
     "base_uri": "https://localhost:8080/"
    },
    "id": "tKthSP7FLShU",
    "outputId": "2dc1661c-07e2-40fb-f584-6fef592baba9"
   },
   "outputs": [
    {
     "name": "stdout",
     "output_type": "stream",
     "text": [
      "<class 'pandas.core.frame.DataFrame'>\n",
      "DatetimeIndex: 2008 entries, 2016-01-01 to 2021-06-30\n",
      "Data columns (total 1 columns):\n",
      " #   Column  Non-Null Count  Dtype  \n",
      "---  ------  --------------  -----  \n",
      " 0   Value   2008 non-null   float64\n",
      "dtypes: float64(1)\n",
      "memory usage: 31.4 KB\n"
     ]
    }
   ],
   "source": [
    "# Set the interval for which you need the data.\n",
    "t_start = '2016-01-01'\n",
    "t_end = datetime.today().strftime('%Y-%m-%d')\n",
    "\n",
    "# Get the required data through quandl API.\n",
    "PriceData = quandl.get(\"BCHAIN/MKPRU\", start_date=t_start, end_date=t_end)\n",
    "\n",
    "PriceData.info()"
   ]
  },
  {
   "cell_type": "code",
   "execution_count": 5,
   "metadata": {
    "colab": {
     "base_uri": "https://localhost:8080/",
     "height": 0
    },
    "id": "CCseFZyoQqSY",
    "outputId": "6f1bbc3c-6192-451c-c32a-76f205a000cc"
   },
   "outputs": [
    {
     "data": {
      "text/html": [
       "<div>\n",
       "<style scoped>\n",
       "    .dataframe tbody tr th:only-of-type {\n",
       "        vertical-align: middle;\n",
       "    }\n",
       "\n",
       "    .dataframe tbody tr th {\n",
       "        vertical-align: top;\n",
       "    }\n",
       "\n",
       "    .dataframe thead th {\n",
       "        text-align: right;\n",
       "    }\n",
       "</style>\n",
       "<table border=\"1\" class=\"dataframe\">\n",
       "  <thead>\n",
       "    <tr style=\"text-align: right;\">\n",
       "      <th></th>\n",
       "      <th>Value</th>\n",
       "    </tr>\n",
       "    <tr>\n",
       "      <th>Date</th>\n",
       "      <th></th>\n",
       "    </tr>\n",
       "  </thead>\n",
       "  <tbody>\n",
       "    <tr>\n",
       "      <th>2016-01-01</th>\n",
       "      <td>432.33</td>\n",
       "    </tr>\n",
       "    <tr>\n",
       "      <th>2016-01-02</th>\n",
       "      <td>433.94</td>\n",
       "    </tr>\n",
       "    <tr>\n",
       "      <th>2016-01-03</th>\n",
       "      <td>432.76</td>\n",
       "    </tr>\n",
       "    <tr>\n",
       "      <th>2016-01-04</th>\n",
       "      <td>433.00</td>\n",
       "    </tr>\n",
       "    <tr>\n",
       "      <th>2016-01-05</th>\n",
       "      <td>431.90</td>\n",
       "    </tr>\n",
       "  </tbody>\n",
       "</table>\n",
       "</div>"
      ],
      "text/plain": [
       "             Value\n",
       "Date              \n",
       "2016-01-01  432.33\n",
       "2016-01-02  433.94\n",
       "2016-01-03  432.76\n",
       "2016-01-04  433.00\n",
       "2016-01-05  431.90"
      ]
     },
     "execution_count": 5,
     "metadata": {
      "tags": []
     },
     "output_type": "execute_result"
    }
   ],
   "source": [
    "PriceData.head()"
   ]
  },
  {
   "cell_type": "code",
   "execution_count": 6,
   "metadata": {
    "colab": {
     "base_uri": "https://localhost:8080/",
     "height": 0
    },
    "id": "leSbCChw36WP",
    "outputId": "d9bda4ba-35ab-4fab-f2e1-19870ad7c8e0"
   },
   "outputs": [
    {
     "data": {
      "text/html": [
       "<div>\n",
       "<style scoped>\n",
       "    .dataframe tbody tr th:only-of-type {\n",
       "        vertical-align: middle;\n",
       "    }\n",
       "\n",
       "    .dataframe tbody tr th {\n",
       "        vertical-align: top;\n",
       "    }\n",
       "\n",
       "    .dataframe thead th {\n",
       "        text-align: right;\n",
       "    }\n",
       "</style>\n",
       "<table border=\"1\" class=\"dataframe\">\n",
       "  <thead>\n",
       "    <tr style=\"text-align: right;\">\n",
       "      <th></th>\n",
       "      <th>price</th>\n",
       "    </tr>\n",
       "    <tr>\n",
       "      <th>Date</th>\n",
       "      <th></th>\n",
       "    </tr>\n",
       "  </thead>\n",
       "  <tbody>\n",
       "    <tr>\n",
       "      <th>2016-01-01</th>\n",
       "      <td>432.33</td>\n",
       "    </tr>\n",
       "    <tr>\n",
       "      <th>2016-01-02</th>\n",
       "      <td>433.94</td>\n",
       "    </tr>\n",
       "    <tr>\n",
       "      <th>2016-01-03</th>\n",
       "      <td>432.76</td>\n",
       "    </tr>\n",
       "    <tr>\n",
       "      <th>2016-01-04</th>\n",
       "      <td>433.00</td>\n",
       "    </tr>\n",
       "    <tr>\n",
       "      <th>2016-01-05</th>\n",
       "      <td>431.90</td>\n",
       "    </tr>\n",
       "  </tbody>\n",
       "</table>\n",
       "</div>"
      ],
      "text/plain": [
       "             price\n",
       "Date              \n",
       "2016-01-01  432.33\n",
       "2016-01-02  433.94\n",
       "2016-01-03  432.76\n",
       "2016-01-04  433.00\n",
       "2016-01-05  431.90"
      ]
     },
     "execution_count": 6,
     "metadata": {
      "tags": []
     },
     "output_type": "execute_result"
    }
   ],
   "source": [
    "data = PriceData.copy()\n",
    "\n",
    "data.rename(columns={\"Value\" : \"price\"}, inplace=True)\n",
    "\n",
    "data.head()"
   ]
  },
  {
   "cell_type": "markdown",
   "metadata": {
    "id": "OLtisTzWy8PG"
   },
   "source": [
    "## Process the Retrieved Data"
   ]
  },
  {
   "cell_type": "code",
   "execution_count": 7,
   "metadata": {
    "colab": {
     "base_uri": "https://localhost:8080/",
     "height": 0
    },
    "id": "8CTRIjkjrcu9",
    "outputId": "425471a6-f3b8-4962-a672-407f24d53e5d"
   },
   "outputs": [
    {
     "data": {
      "text/html": [
       "<div>\n",
       "<style scoped>\n",
       "    .dataframe tbody tr th:only-of-type {\n",
       "        vertical-align: middle;\n",
       "    }\n",
       "\n",
       "    .dataframe tbody tr th {\n",
       "        vertical-align: top;\n",
       "    }\n",
       "\n",
       "    .dataframe thead th {\n",
       "        text-align: right;\n",
       "    }\n",
       "</style>\n",
       "<table border=\"1\" class=\"dataframe\">\n",
       "  <thead>\n",
       "    <tr style=\"text-align: right;\">\n",
       "      <th></th>\n",
       "      <th>price</th>\n",
       "      <th>log_return</th>\n",
       "    </tr>\n",
       "    <tr>\n",
       "      <th>Date</th>\n",
       "      <th></th>\n",
       "      <th></th>\n",
       "    </tr>\n",
       "  </thead>\n",
       "  <tbody>\n",
       "    <tr>\n",
       "      <th>2016-01-02</th>\n",
       "      <td>433.94</td>\n",
       "      <td>0.003717</td>\n",
       "    </tr>\n",
       "    <tr>\n",
       "      <th>2016-01-03</th>\n",
       "      <td>432.76</td>\n",
       "      <td>-0.002723</td>\n",
       "    </tr>\n",
       "    <tr>\n",
       "      <th>2016-01-04</th>\n",
       "      <td>433.00</td>\n",
       "      <td>0.000554</td>\n",
       "    </tr>\n",
       "    <tr>\n",
       "      <th>2016-01-05</th>\n",
       "      <td>431.90</td>\n",
       "      <td>-0.002544</td>\n",
       "    </tr>\n",
       "    <tr>\n",
       "      <th>2016-01-06</th>\n",
       "      <td>432.43</td>\n",
       "      <td>0.001226</td>\n",
       "    </tr>\n",
       "  </tbody>\n",
       "</table>\n",
       "</div>"
      ],
      "text/plain": [
       "             price  log_return\n",
       "Date                          \n",
       "2016-01-02  433.94    0.003717\n",
       "2016-01-03  432.76   -0.002723\n",
       "2016-01-04  433.00    0.000554\n",
       "2016-01-05  431.90   -0.002544\n",
       "2016-01-06  432.43    0.001226"
      ]
     },
     "execution_count": 7,
     "metadata": {
      "tags": []
     },
     "output_type": "execute_result"
    }
   ],
   "source": [
    "# Returns (log scale).\n",
    "data[\"log_return\"] = np.log(data[\"price\"] / data[\"price\"].shift(1))\n",
    "data.dropna(inplace=True)\n",
    "\n",
    "data.head()"
   ]
  },
  {
   "cell_type": "code",
   "execution_count": 8,
   "metadata": {
    "colab": {
     "base_uri": "https://localhost:8080/",
     "height": 0
    },
    "id": "3NEVYb7lwcO_",
    "outputId": "1107ff58-ca3b-43f7-8b69-bb7f283c6f1c"
   },
   "outputs": [
    {
     "data": {
      "image/png": "[encoded data removed]",
      "text/plain": [
       "<Figure size 1080x360 with 1 Axes>"
      ]
     },
     "metadata": {
      "needs_background": "light",
      "tags": []
     },
     "output_type": "display_data"
    }
   ],
   "source": [
    "# Plot of returns over time (log scale).\n",
    "plt.figure(figsize=(15, 5))\n",
    "ax = sns.lineplot(data=data[\"log_return\"], legend=False)\n",
    "ax.set(xlabel='Date', ylabel='Return (log)')\n",
    "plt.show()"
   ]
  },
  {
   "cell_type": "code",
   "execution_count": 9,
   "metadata": {
    "colab": {
     "base_uri": "https://localhost:8080/",
     "height": 0
    },
    "id": "fxfrWz-0xGWN",
    "outputId": "8bd5de03-3ee1-4ba5-daa5-68d1edb9eb6f"
   },
   "outputs": [
    {
     "data": {
      "image/png": "[encoded data removed]",
      "text/plain": [
       "<Figure size 1080x360 with 1 Axes>"
      ]
     },
     "metadata": {
      "needs_background": "light",
      "tags": []
     },
     "output_type": "display_data"
    }
   ],
   "source": [
    "# Returns distribution (log scale)(not normalized).\n",
    "plt.figure(figsize=(15, 5))\n",
    "ax = sns.histplot(data=data['log_return'], kde=True)\n",
    "ax.set(xlabel='Return (log)', ylabel='Count', title='Frequency Distribution')\n",
    "plt.show()"
   ]
  },
  {
   "cell_type": "code",
   "execution_count": 10,
   "metadata": {
    "colab": {
     "base_uri": "https://localhost:8080/",
     "height": 0
    },
    "id": "RibetIFwscRT",
    "outputId": "b53ccd17-db6e-4698-de86-9e113d41c7b2"
   },
   "outputs": [
    {
     "data": {
      "text/html": [
       "<div>\n",
       "<style scoped>\n",
       "    .dataframe tbody tr th:only-of-type {\n",
       "        vertical-align: middle;\n",
       "    }\n",
       "\n",
       "    .dataframe tbody tr th {\n",
       "        vertical-align: top;\n",
       "    }\n",
       "\n",
       "    .dataframe thead th {\n",
       "        text-align: right;\n",
       "    }\n",
       "</style>\n",
       "<table border=\"1\" class=\"dataframe\">\n",
       "  <thead>\n",
       "    <tr style=\"text-align: right;\">\n",
       "      <th></th>\n",
       "      <th>price</th>\n",
       "      <th>log_return</th>\n",
       "      <th>direction</th>\n",
       "    </tr>\n",
       "    <tr>\n",
       "      <th>Date</th>\n",
       "      <th></th>\n",
       "      <th></th>\n",
       "      <th></th>\n",
       "    </tr>\n",
       "  </thead>\n",
       "  <tbody>\n",
       "    <tr>\n",
       "      <th>2016-01-02</th>\n",
       "      <td>433.94</td>\n",
       "      <td>0.003717</td>\n",
       "      <td>1</td>\n",
       "    </tr>\n",
       "    <tr>\n",
       "      <th>2016-01-03</th>\n",
       "      <td>432.76</td>\n",
       "      <td>-0.002723</td>\n",
       "      <td>0</td>\n",
       "    </tr>\n",
       "    <tr>\n",
       "      <th>2016-01-04</th>\n",
       "      <td>433.00</td>\n",
       "      <td>0.000554</td>\n",
       "      <td>1</td>\n",
       "    </tr>\n",
       "    <tr>\n",
       "      <th>2016-01-05</th>\n",
       "      <td>431.90</td>\n",
       "      <td>-0.002544</td>\n",
       "      <td>0</td>\n",
       "    </tr>\n",
       "    <tr>\n",
       "      <th>2016-01-06</th>\n",
       "      <td>432.43</td>\n",
       "      <td>0.001226</td>\n",
       "      <td>1</td>\n",
       "    </tr>\n",
       "  </tbody>\n",
       "</table>\n",
       "</div>"
      ],
      "text/plain": [
       "             price  log_return  direction\n",
       "Date                                     \n",
       "2016-01-02  433.94    0.003717          1\n",
       "2016-01-03  432.76   -0.002723          0\n",
       "2016-01-04  433.00    0.000554          1\n",
       "2016-01-05  431.90   -0.002544          0\n",
       "2016-01-06  432.43    0.001226          1"
      ]
     },
     "execution_count": 10,
     "metadata": {
      "tags": []
     },
     "output_type": "execute_result"
    }
   ],
   "source": [
    "# Preferred position.\n",
    "# 1 -> long, 0 -> short\n",
    "data[\"direction\"] = np.where(data[\"log_return\"] > 0, 1, 0)\n",
    "\n",
    "data.head()"
   ]
  },
  {
   "cell_type": "code",
   "execution_count": 11,
   "metadata": {
    "colab": {
     "base_uri": "https://localhost:8080/",
     "height": 0
    },
    "id": "NxoGPTKiuWSn",
    "outputId": "4b8406b6-d6fd-4944-e560-89f40f2feddb"
   },
   "outputs": [
    {
     "data": {
      "text/html": [
       "<div>\n",
       "<style scoped>\n",
       "    .dataframe tbody tr th:only-of-type {\n",
       "        vertical-align: middle;\n",
       "    }\n",
       "\n",
       "    .dataframe tbody tr th {\n",
       "        vertical-align: top;\n",
       "    }\n",
       "\n",
       "    .dataframe thead th {\n",
       "        text-align: right;\n",
       "    }\n",
       "</style>\n",
       "<table border=\"1\" class=\"dataframe\">\n",
       "  <thead>\n",
       "    <tr style=\"text-align: right;\">\n",
       "      <th></th>\n",
       "      <th>price</th>\n",
       "      <th>log_return</th>\n",
       "      <th>direction</th>\n",
       "      <th>log_return_lag_7</th>\n",
       "      <th>log_return_lag_6</th>\n",
       "      <th>log_return_lag_5</th>\n",
       "      <th>log_return_lag_4</th>\n",
       "      <th>log_return_lag_3</th>\n",
       "      <th>log_return_lag_2</th>\n",
       "      <th>log_return_lag_1</th>\n",
       "    </tr>\n",
       "    <tr>\n",
       "      <th>Date</th>\n",
       "      <th></th>\n",
       "      <th></th>\n",
       "      <th></th>\n",
       "      <th></th>\n",
       "      <th></th>\n",
       "      <th></th>\n",
       "      <th></th>\n",
       "      <th></th>\n",
       "      <th></th>\n",
       "      <th></th>\n",
       "    </tr>\n",
       "  </thead>\n",
       "  <tbody>\n",
       "    <tr>\n",
       "      <th>2016-01-09</th>\n",
       "      <td>452.64</td>\n",
       "      <td>0.012449</td>\n",
       "      <td>1</td>\n",
       "      <td>0.003717</td>\n",
       "      <td>-0.002723</td>\n",
       "      <td>0.000554</td>\n",
       "      <td>-0.002544</td>\n",
       "      <td>0.001226</td>\n",
       "      <td>0.048038</td>\n",
       "      <td>-0.014810</td>\n",
       "    </tr>\n",
       "    <tr>\n",
       "      <th>2016-01-10</th>\n",
       "      <td>446.24</td>\n",
       "      <td>-0.014240</td>\n",
       "      <td>0</td>\n",
       "      <td>-0.002723</td>\n",
       "      <td>0.000554</td>\n",
       "      <td>-0.002544</td>\n",
       "      <td>0.001226</td>\n",
       "      <td>0.048038</td>\n",
       "      <td>-0.014810</td>\n",
       "      <td>0.012449</td>\n",
       "    </tr>\n",
       "    <tr>\n",
       "      <th>2016-01-11</th>\n",
       "      <td>447.11</td>\n",
       "      <td>0.001948</td>\n",
       "      <td>1</td>\n",
       "      <td>0.000554</td>\n",
       "      <td>-0.002544</td>\n",
       "      <td>0.001226</td>\n",
       "      <td>0.048038</td>\n",
       "      <td>-0.014810</td>\n",
       "      <td>0.012449</td>\n",
       "      <td>-0.014240</td>\n",
       "    </tr>\n",
       "    <tr>\n",
       "      <th>2016-01-12</th>\n",
       "      <td>447.98</td>\n",
       "      <td>0.001944</td>\n",
       "      <td>1</td>\n",
       "      <td>-0.002544</td>\n",
       "      <td>0.001226</td>\n",
       "      <td>0.048038</td>\n",
       "      <td>-0.014810</td>\n",
       "      <td>0.012449</td>\n",
       "      <td>-0.014240</td>\n",
       "      <td>0.001948</td>\n",
       "    </tr>\n",
       "    <tr>\n",
       "      <th>2016-01-13</th>\n",
       "      <td>429.57</td>\n",
       "      <td>-0.041964</td>\n",
       "      <td>0</td>\n",
       "      <td>0.001226</td>\n",
       "      <td>0.048038</td>\n",
       "      <td>-0.014810</td>\n",
       "      <td>0.012449</td>\n",
       "      <td>-0.014240</td>\n",
       "      <td>0.001948</td>\n",
       "      <td>0.001944</td>\n",
       "    </tr>\n",
       "  </tbody>\n",
       "</table>\n",
       "</div>"
      ],
      "text/plain": [
       "             price  log_return  ...  log_return_lag_2  log_return_lag_1\n",
       "Date                            ...                                    \n",
       "2016-01-09  452.64    0.012449  ...          0.048038         -0.014810\n",
       "2016-01-10  446.24   -0.014240  ...         -0.014810          0.012449\n",
       "2016-01-11  447.11    0.001948  ...          0.012449         -0.014240\n",
       "2016-01-12  447.98    0.001944  ...         -0.014240          0.001948\n",
       "2016-01-13  429.57   -0.041964  ...          0.001948          0.001944\n",
       "\n",
       "[5 rows x 10 columns]"
      ]
     },
     "execution_count": 11,
     "metadata": {
      "tags": []
     },
     "output_type": "execute_result"
    }
   ],
   "source": [
    "# Last 'lags' days returns (log scale).\n",
    "lags = 7\n",
    "\n",
    "cols = []  # List of feature names. \n",
    "for lag in range(lags, 0, -1): \n",
    "  col = f'log_return_lag_{lag}'\n",
    "  data[col] = data['log_return'].shift(lag) \n",
    "  cols.append(col)\n",
    "\n",
    "data.dropna(inplace=True)\n",
    "\n",
    "data.head()"
   ]
  },
  {
   "cell_type": "markdown",
   "metadata": {
    "id": "t88xPmUjzpLc"
   },
   "source": [
    "## Split the Data"
   ]
  },
  {
   "cell_type": "code",
   "execution_count": 12,
   "metadata": {
    "id": "EEvBXCnNBmID"
   },
   "outputs": [],
   "source": [
    "# Divide the data into training, validation and test datasets.\n",
    "cutoff_train = '2021-01-01'\n",
    "cutoff_val = '2021-04-01'\n",
    "\n",
    "# Training data.\n",
    "training_data = data[data.index < cutoff_train].copy()\n",
    "\n",
    "# Validation data.\n",
    "val_data = data[(data.index >= cutoff_train) & (data.index < cutoff_val)].copy()\n",
    "\n",
    "# Test data.\n",
    "test_data = data[data.index >= cutoff_val].copy()"
   ]
  },
  {
   "cell_type": "code",
   "execution_count": 13,
   "metadata": {
    "colab": {
     "base_uri": "https://localhost:8080/"
    },
    "id": "i2hEr1KkBmDA",
    "outputId": "d00ff0f3-a2a6-403f-eddd-18bb76932d70"
   },
   "outputs": [
    {
     "data": {
      "text/plain": [
       "(               price  log_return  ...  log_return_lag_2  log_return_lag_1\n",
       " Date                              ...                                    \n",
       " 2020-12-27  26443.21    0.068456  ...          0.019680          0.040413\n",
       " 2020-12-28  26246.58   -0.007464  ...          0.040413          0.068456\n",
       " 2020-12-29  27036.69    0.029659  ...          0.068456         -0.007464\n",
       " 2020-12-30  27376.37    0.012485  ...         -0.007464          0.029659\n",
       " 2020-12-31  28856.59    0.052658  ...          0.029659          0.012485\n",
       " \n",
       " [5 rows x 10 columns],\n",
       "                price  log_return  ...  log_return_lag_2  log_return_lag_1\n",
       " Date                              ...                                    \n",
       " 2021-03-27  55074.47    0.068738  ...         -0.036817         -0.021022\n",
       " 2021-03-28  55863.93    0.014233  ...         -0.021022          0.068738\n",
       " 2021-03-29  55783.71   -0.001437  ...          0.068738          0.014233\n",
       " 2021-03-30  57627.67    0.032521  ...          0.014233         -0.001437\n",
       " 2021-03-31  58730.13    0.018950  ...         -0.001437          0.032521\n",
       " \n",
       " [5 rows x 10 columns],\n",
       "                price  log_return  ...  log_return_lag_2  log_return_lag_1\n",
       " Date                              ...                                    \n",
       " 2021-06-26  31640.58   -0.090551  ...          0.037119          0.028246\n",
       " 2021-06-27  32160.91    0.016311  ...          0.028246         -0.090551\n",
       " 2021-06-28  34644.45    0.074386  ...         -0.090551          0.016311\n",
       " 2021-06-29  34456.67   -0.005435  ...          0.016311          0.074386\n",
       " 2021-06-30  35847.70    0.039577  ...          0.074386         -0.005435\n",
       " \n",
       " [5 rows x 10 columns])"
      ]
     },
     "execution_count": 13,
     "metadata": {
      "tags": []
     },
     "output_type": "execute_result"
    }
   ],
   "source": [
    "training_data.tail(), val_data.tail(), test_data.tail()"
   ]
  },
  {
   "cell_type": "markdown",
   "metadata": {
    "id": "tCd4CEfp-py6"
   },
   "source": [
    "# Model Architecture"
   ]
  },
  {
   "cell_type": "markdown",
   "metadata": {
    "id": "qqqJJf-Y0QyH"
   },
   "source": [
    "## Custom Layers"
   ]
  },
  {
   "cell_type": "code",
   "execution_count": 14,
   "metadata": {
    "id": "1UAX2ENlRck3"
   },
   "outputs": [],
   "source": [
    "class EncoderLayer(keras.layers.Layer):\n",
    "  def __init__(self, num_heads, n_layers, n_neurons, rate=0.1, **kwargs):\n",
    "    super(EncoderLayer, self).__init__(**kwargs)\n",
    "\n",
    "    self.mha = keras.layers.MultiHeadAttention(num_heads=num_heads, key_dim=1)\n",
    "\n",
    "    self.hidden = [keras.layers.Dense(n_neurons, \n",
    "                                      activation=\"elu\",\n",
    "                                      kernel_initializer=\"he_normal\")\n",
    "                  for _ in range(n_layers)]\n",
    "\n",
    "    self.out = keras.layers.Dense(1)\n",
    "\n",
    "    self.layernorm1 = keras.layers.LayerNormalization(epsilon=1e-6)\n",
    "    self.layernorm2 = keras.layers.LayerNormalization(epsilon=1e-6)\n",
    "\n",
    "    self.dropout1 = keras.layers.Dropout(rate)\n",
    "    self.dropout2 = keras.layers.Dropout(rate)\n",
    "\n",
    "  def call(self, inputs, training):\n",
    "    attn_output = self.mha(inputs, inputs)  \n",
    "    attn_output = self.dropout1(attn_output, training=training)\n",
    "    out1 = self.layernorm1(inputs + attn_output)\n",
    "\n",
    "    Z = out1\n",
    "    for layer in self.hidden: \n",
    "      Z = layer(Z)\n",
    "    \n",
    "    Z = self.dropout2(Z, training=training)\n",
    "\n",
    "    ffn_output = self.out(Z)\n",
    "\n",
    "    out2 = self.layernorm2(out1 + ffn_output)\n",
    "\n",
    "    return out2"
   ]
  },
  {
   "cell_type": "code",
   "execution_count": 15,
   "metadata": {
    "id": "OepRrW9mVS2_"
   },
   "outputs": [],
   "source": [
    "class Encoder(keras.layers.Layer):\n",
    "  def __init__(self, n_enc_layers, n_heads, n_layers, n_neurons, maximum_position_encoding, rate=0.1, **kwargs):\n",
    "    super(Encoder, self).__init__(**kwargs)\n",
    "\n",
    "    self.pos_encoding = PositionEmbedding(maximum_position_encoding, 1)\n",
    "\n",
    "    self.enc_layers = [EncoderLayer(n_heads, n_layers, n_neurons) for _ in range(n_enc_layers)]\n",
    "\n",
    "    self.dropout = tf.keras.layers.Dropout(rate)\n",
    "\n",
    "    self.pooling = tf.keras.layers.GlobalAveragePooling1D()\n",
    "\n",
    "  def call(self, inputs, training):\n",
    "    x = self.pos_encoding(inputs)\n",
    "\n",
    "    x = self.dropout(x, training=training)\n",
    "\n",
    "    for layer in self.enc_layers:\n",
    "      x = layer(x, training)\n",
    "\n",
    "    return self.pooling(x)"
   ]
  },
  {
   "cell_type": "code",
   "execution_count": 16,
   "metadata": {
    "id": "nBaMmtoDhnT-"
   },
   "outputs": [],
   "source": [
    "class PositionEmbedding(keras.layers.Layer):\n",
    "    def __init__(self, maxlen, embed_dim):\n",
    "        super(PositionEmbedding, self).__init__()\n",
    "        self.layernorm = keras.layers.LayerNormalization()\n",
    "        self.pos_emb = keras.layers.Embedding(input_dim=maxlen, output_dim=embed_dim)\n",
    "        self.maxlen = maxlen\n",
    "\n",
    "    def call(self, inputs):\n",
    "        x = self.layernorm(inputs)\n",
    "\n",
    "        positions = tf.range(start=0, limit=self.maxlen, delta=1)\n",
    "        positions = self.pos_emb(positions)\n",
    "        \n",
    "        return x[:, np.newaxis] + positions"
   ]
  },
  {
   "cell_type": "code",
   "execution_count": 17,
   "metadata": {
    "id": "9osFC4ZMqTo0"
   },
   "outputs": [],
   "source": [
    "class FFN(keras.layers.Layer):\n",
    "  def __init__(self, n_layers=4, n_neurons=20, **kwargs):\n",
    "    super(FFN, self).__init__(**kwargs)\n",
    "\n",
    "    self.hidden = [keras.layers.Dense(n_neurons, \n",
    "                                      activation=\"elu\", \n",
    "                                      kernel_initializer=\"he_normal\")\n",
    "                  for _ in range(n_layers)]\n",
    "\n",
    "    self.norm = [tf.keras.layers.LayerNormalization() for _ in range(n_layers)]\n",
    "\n",
    "    self.out = keras.layers.Dense(1, activation=\"sigmoid\")\n",
    "\n",
    "  def call(self, inputs): \n",
    "    Z = inputs\n",
    "\n",
    "    for hidden_layer, norm_layer in zip(self.hidden, self.norm): \n",
    "      Z = hidden_layer(Z)\n",
    "      Z = norm_layer(Z)\n",
    "\n",
    "    output = self.out(Z)\n",
    "\n",
    "    return output"
   ]
  },
  {
   "cell_type": "markdown",
   "metadata": {
    "id": "5DEGB0rR0YAI"
   },
   "source": [
    "## Model"
   ]
  },
  {
   "cell_type": "code",
   "execution_count": 18,
   "metadata": {
    "id": "qzYx4nxg0wqa"
   },
   "outputs": [],
   "source": [
    "class CustomModel(keras.Model):\n",
    "  def __init__(self,\n",
    "               maximum_position_encoding,\n",
    "               num_enc_layers = 1, num_heads = 2, n_layers = 1, n_neurons=64,\n",
    "               n_layers_ffn = 4, n_neurons_ffn = 20,\n",
    "               **kwargs):\n",
    "    super(CustomModel, self).__init__(**kwargs) \n",
    "    \n",
    "    self.transformer = Encoder(num_enc_layers, num_heads, n_layers, n_neurons, maximum_position_encoding)\n",
    "\n",
    "    self.ffn = FFN(n_layers_ffn, n_neurons_ffn)\n",
    "\n",
    "  def call(self, inputs, training): \n",
    "    Z = self.transformer(inputs)\n",
    "\n",
    "    output = self.ffn(Z)\n",
    "    \n",
    "    return output"
   ]
  },
  {
   "cell_type": "markdown",
   "metadata": {
    "id": "7EjLMDFU3Caf"
   },
   "source": [
    "# Training"
   ]
  },
  {
   "cell_type": "code",
   "execution_count": 19,
   "metadata": {
    "id": "rqJ-8Q5f0ijZ"
   },
   "outputs": [],
   "source": [
    "def set_seeds(seed=100): \n",
    "  np.random.seed(seed) \n",
    "  tf.random.set_seed(100)\n",
    "\n",
    "# Set the random seed.\n",
    "set_seeds()"
   ]
  },
  {
   "cell_type": "code",
   "execution_count": 20,
   "metadata": {
    "id": "j2kJb4tL3Ypb"
   },
   "outputs": [],
   "source": [
    "# Instantiate a model.\n",
    "model = CustomModel(lags)"
   ]
  },
  {
   "cell_type": "code",
   "execution_count": 21,
   "metadata": {
    "id": "GjpI2YIhvt4Y"
   },
   "outputs": [],
   "source": [
    "# Learning rate as a function of epoch.\n",
    "def sin_fn(epoch):\n",
    "  if epoch > 100: return 0.001\n",
    "  return tf.sin(epoch*0.1)*0.001 + 0.002\n",
    "\n",
    "# Learning rate scheduler.\n",
    "lr_scheduler = keras.callbacks.LearningRateScheduler(sin_fn)"
   ]
  },
  {
   "cell_type": "code",
   "execution_count": 22,
   "metadata": {
    "id": "-SnMPBVJnyTu"
   },
   "outputs": [],
   "source": [
    "# Optimizer.\n",
    "optimizer = tf.keras.optimizers.Adam()"
   ]
  },
  {
   "cell_type": "code",
   "execution_count": 23,
   "metadata": {
    "id": "_64O9xBVjR_g"
   },
   "outputs": [],
   "source": [
    "# Compile the model.\n",
    "model.compile(optimizer, \"binary_crossentropy\", metrics=[\"accuracy\"])"
   ]
  },
  {
   "cell_type": "code",
   "execution_count": 24,
   "metadata": {
    "id": "WLXAvuXEjpI8"
   },
   "outputs": [],
   "source": [
    "# Early-stopping callback.\n",
    "early_stopping_cb = keras.callbacks.EarlyStopping(patience=100, restore_best_weights=True)"
   ]
  },
  {
   "cell_type": "code",
   "execution_count": 25,
   "metadata": {
    "id": "FhrmyYlTia3G"
   },
   "outputs": [],
   "source": [
    "# Fit the model.\n",
    "history = model.fit(training_data[cols], training_data[\"direction\"], \n",
    "                    epochs=200, \n",
    "                    validation_data=(val_data[cols], val_data[\"direction\"]), \n",
    "                    callbacks=[early_stopping_cb, lr_scheduler], \n",
    "                    shuffle=False, verbose=False)"
   ]
  },
  {
   "cell_type": "code",
   "execution_count": 26,
   "metadata": {
    "colab": {
     "base_uri": "https://localhost:8080/",
     "height": 0
    },
    "id": "_R2PUxXqpAg7",
    "outputId": "81dfcf71-6e60-4929-91af-ce121ee4160e"
   },
   "outputs": [
    {
     "data": {
      "image/png": "[encoded data removed]",
      "text/plain": [
       "<Figure size 720x720 with 1 Axes>"
      ]
     },
     "metadata": {
      "needs_background": "light",
      "tags": []
     },
     "output_type": "display_data"
    }
   ],
   "source": [
    "# Training characteristics.\n",
    "res = pd.DataFrame(history.history)[[\"accuracy\", \"val_accuracy\", \"loss\", \"val_loss\"]]\n",
    "\n",
    "# Plot the training characteristics.\n",
    "res.plot(figsize=(10, 10));"
   ]
  },
  {
   "cell_type": "markdown",
   "metadata": {},
   "source": [
    "We can also perform hyperparameter tuning to find the best hyperparameters, but we will not do that due to the limited amount of computational resources."
   ]
  },
  {
   "cell_type": "markdown",
   "metadata": {
    "id": "rAQGgJuRpjBS"
   },
   "source": [
    "# Evaluate"
   ]
  },
  {
   "cell_type": "code",
   "execution_count": 27,
   "metadata": {
    "colab": {
     "base_uri": "https://localhost:8080/"
    },
    "id": "Cc6z63OEj_Ml",
    "outputId": "856649e3-5dff-44d6-894e-71e904b6110f"
   },
   "outputs": [
    {
     "name": "stdout",
     "output_type": "stream",
     "text": [
      "3/3 [==============================] - 0s 5ms/step - loss: 0.7037 - accuracy: 0.5275\n"
     ]
    },
    {
     "data": {
      "text/plain": [
       "[0.7037481069564819, 0.5274725556373596]"
      ]
     },
     "execution_count": 27,
     "metadata": {
      "tags": []
     },
     "output_type": "execute_result"
    }
   ],
   "source": [
    "# Evaluate the model on test data.\n",
    "model.evaluate(test_data[cols], test_data[\"direction\"])"
   ]
  },
  {
   "cell_type": "code",
   "execution_count": 28,
   "metadata": {
    "id": "dzNtqFdKkYp-"
   },
   "outputs": [],
   "source": [
    "# Predicted preferred position.\n",
    "# 1 -> long, -1 -> short.\n",
    "test_data['prediction'] = np.where(model.predict(test_data[cols]) > 0.5, 1, -1)"
   ]
  },
  {
   "cell_type": "code",
   "execution_count": 29,
   "metadata": {
    "id": "o-FnSEo3FWVB"
   },
   "outputs": [],
   "source": [
    "# Strategy based returns (log scale).\n",
    "test_data['strategy'] = test_data['prediction'] * test_data['log_return']"
   ]
  },
  {
   "cell_type": "code",
   "execution_count": 30,
   "metadata": {
    "colab": {
     "base_uri": "https://localhost:8080/"
    },
    "id": "pZNNS4a8Fa8r",
    "outputId": "ac99e61f-e054-4356-b395-9487d86bf055"
   },
   "outputs": [
    {
     "data": {
      "text/plain": [
       "log_return    0.610380\n",
       "strategy      2.244607\n",
       "dtype: float64"
      ]
     },
     "execution_count": 30,
     "metadata": {
      "tags": []
     },
     "output_type": "execute_result"
    }
   ],
   "source": [
    "# Final returns based on the passive benchmark investment and strategy (regular scale).\n",
    "returns = test_data[['log_return', 'strategy']].sum().apply(np.exp)\n",
    "\n",
    "returns"
   ]
  },
  {
   "cell_type": "markdown",
   "metadata": {},
   "source": [
    "Voila!\n",
    "\n",
    "<img src=\"images\\cartoon.jpeg\" alt=\"Bitcoin\">"
   ]
  },
  {
   "cell_type": "code",
   "execution_count": 31,
   "metadata": {
    "id": "8kkexrrYFfYR"
   },
   "outputs": [],
   "source": [
    "# Cumulative returns over time based on the passive benchmark investment and strategy (regular scale).\n",
    "gross_performance = test_data[['log_return', 'strategy']].cumsum().apply(np.exp)"
   ]
  },
  {
   "cell_type": "code",
   "execution_count": 32,
   "metadata": {
    "colab": {
     "base_uri": "https://localhost:8080/",
     "height": 611
    },
    "id": "50IESTG0FlUt",
    "outputId": "ab614586-c41e-4c3d-e3e6-964a02509a67"
   },
   "outputs": [
    {
     "data": {
      "image/png": "[encoded data removed]",
      "text/plain": [
       "<Figure size 1080x720 with 1 Axes>"
      ]
     },
     "metadata": {
      "needs_background": "light",
      "tags": []
     },
     "output_type": "display_data"
    }
   ],
   "source": [
    "# Plot of cumulative returns based on the passive benchmark investment and strategy over time (regular scale).\n",
    "plt.figure(figsize=(15, 10))\n",
    "ax = sns.lineplot(data=gross_performance, legend=False)\n",
    "ax.legend(['Returns', 'Returns -- Strategy'])\n",
    "plt.show()"
   ]
  },
  {
   "cell_type": "markdown",
   "metadata": {},
   "source": [
    "Please note that even though our algorithm performs well relative to the passive benchmark investment, this might be a mere fluke. Therefore, it is suggested to test this algorithm with various assets and markets to check its robustness and reliability. In addition to that, as we have dropout layers in our model, we can also do Monte Carlo (MC) Dropout to get a sense of uncertainty in our prediction."
   ]
  },
  {
   "cell_type": "code",
   "execution_count": 33,
   "metadata": {
    "colab": {
     "base_uri": "https://localhost:8080/",
     "height": 355
    },
    "id": "uXXlNi6XFtCc",
    "outputId": "72f19b41-1614-4371-9e90-b7f09ffc8593"
   },
   "outputs": [
    {
     "data": {
      "image/png": "[encoded data removed]",
      "text/plain": [
       "<Figure size 1080x360 with 1 Axes>"
      ]
     },
     "metadata": {
      "needs_background": "light",
      "tags": []
     },
     "output_type": "display_data"
    }
   ],
   "source": [
    "# Plot of market position over time.\n",
    "plt.figure(figsize=(15, 5))\n",
    "ax = sns.scatterplot(data=test_data['prediction'])\n",
    "ax.set(xlabel='Date', ylabel='Position', title='Market Positioning')\n",
    "plt.show()"
   ]
  },
  {
   "cell_type": "markdown",
   "metadata": {},
   "source": [
    "Even though we are not changing our position with high frequency, it is preferred to add the transaction costs as to simulate a more realistic scenario."
   ]
  },
  {
   "cell_type": "markdown",
   "metadata": {},
   "source": [
    "## Summary\n",
    "\n",
    "The holy grail of finance is predicting future market moves. It entails overcoming market efficiency. As a result of the tremendous success of trainable algorithms, an increasing number of traders are constructing deep learning-based algorithms to improve their profits. As we have seen from our experiment, Transformers might capture specific hidden patterns that might help us predict future market direction. \n",
    "\n",
    "This project motivates an individual to try this neural architecture and test it more vigorously to evaluate its performance in the given task."
   ]
  }
 ],
 "metadata": {
  "colab": {
   "collapsed_sections": [
    "x4ChYgvNLQH8",
    "tzhX6aPGLT2W",
    "r_3AoneUyxRJ",
    "OLtisTzWy8PG",
    "t88xPmUjzpLc",
    "tCd4CEfp-py6",
    "qqqJJf-Y0QyH",
    "5DEGB0rR0YAI",
    "7EjLMDFU3Caf",
    "rAQGgJuRpjBS"
   ],
   "name": "TestMarketMovementPredictionTransformers.ipynb",
   "provenance": []
  },
  "interpreter": {
   "hash": "b51b506af9283480b7e035f820a5fae858e88ec3d40fc0f2e64626a68c1269d7"
  },
  "kernelspec": {
   "display_name": "Python 3.7.10 64-bit ('base': conda)",
   "name": "python3"
  },
  "language_info": {
   "name": "python",
   "version": ""
  }
 },
 "nbformat": 4,
 "nbformat_minor": 1
}